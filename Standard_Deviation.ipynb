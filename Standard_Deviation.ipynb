{
  "cells": [
    {
      "cell_type": "code",
      "execution_count": 9,
      "id": "9734141e",
      "metadata": {
        "id": "9734141e"
      },
      "outputs": [],
      "source": [
        "import cv2\n",
        "import os\n",
        "import shutil\n",
        "import torch,torchvision\n",
        "import math\n",
        "import pandas\n",
        "import natsort\n",
        "import torchvision.transforms as transforms\n",
        "from torchvision import datasets\n",
        "import torch.optim as optim\n",
        "import numpy as np\n",
        "from PIL import Image, ImageFilter\n",
        "from torchvision.datasets import ImageFolder\n",
        "from torch.utils.data import DataLoader\n",
        "from sklearn.preprocessing import label_binarize\n",
        "from itertools import cycle\n",
        "from sklearn.metrics import confusion_matrix\n",
        "import seaborn as sns\n",
        "import pandas as pd\n",
        "import matplotlib.pyplot as plt\n",
        "from sklearn.metrics import roc_curve, auc\n",
        "%matplotlib inline"
      ]
    },
    {
      "cell_type": "code",
      "source": [
        "from google.colab import drive\n",
        "drive.mount('/content/drive')"
      ],
      "metadata": {
        "colab": {
          "base_uri": "https://localhost:8080/"
        },
        "id": "-gS5TFlAGVDD",
        "outputId": "ce2e1119-8fe2-4646-c2c5-f3dafa87390e"
      },
      "id": "-gS5TFlAGVDD",
      "execution_count": 10,
      "outputs": [
        {
          "output_type": "stream",
          "name": "stdout",
          "text": [
            "Drive already mounted at /content/drive; to attempt to forcibly remount, call drive.mount(\"/content/drive\", force_remount=True).\n"
          ]
        }
      ]
    },
    {
      "cell_type": "code",
      "source": [
        "path = \"/content/drive/MyDrive/BinarySplit\""
      ],
      "metadata": {
        "id": "kpEw_1PbGhJI"
      },
      "id": "kpEw_1PbGhJI",
      "execution_count": 11,
      "outputs": []
    },
    {
      "cell_type": "code",
      "source": [
        "path = path\n",
        "class_dirs = os.listdir(path)"
      ],
      "metadata": {
        "id": "1D8JK2DZl46r"
      },
      "id": "1D8JK2DZl46r",
      "execution_count": null,
      "outputs": []
    },
    {
      "cell_type": "code",
      "execution_count": 12,
      "id": "eb45371f",
      "metadata": {
        "colab": {
          "base_uri": "https://localhost:8080/"
        },
        "id": "eb45371f",
        "outputId": "db4a680d-b704-4628-d1f6-02ddd4c8cb25"
      },
      "outputs": [
        {
          "output_type": "stream",
          "name": "stdout",
          "text": [
            "Class: GreaterThan29\n",
            "Image size: (200, 200)\n",
            "Number of images: 10308\n",
            "Image format: JPEG\n",
            "Number of channels: 3\n",
            "\n",
            "Class: LessThan28\n",
            "Image size: (200, 200)\n",
            "Number of images: 9663\n",
            "Image format: JPEG\n",
            "Number of channels: 3\n",
            "\n"
          ]
        }
      ],
      "source": [
        "for c in class_dirs:\n",
        "    c_path = os.path.join(path, c)\n",
        "    img_files = os.listdir(c_path)\n",
        "    numb_images = len(img_files)\n",
        "    img_path = os.path.join(c_path, img_files[0])\n",
        "    img = Image.open(img_path)\n",
        "    img_size = img.size\n",
        "    num_channels = len(img.getbands())\n",
        "    storage_format = img.format\n",
        "    print(\"Class:\", c)\n",
        "    print(\"Image size:\", img_size)\n",
        "    print(\"Number of images:\", numb_images)\n",
        "    print(\"Number of channels:\", num_channels)\n",
        "    print(\"Image format:\", storage_format)"
      ]
    },
    {
      "cell_type": "code",
      "execution_count": 13,
      "id": "4b0ee635",
      "metadata": {
        "id": "4b0ee635"
      },
      "outputs": [],
      "source": [
        "transforms = transforms.Compose([\n",
        "    transforms.Resize((224, 224)),\n",
        "    transforms.ToTensor()\n",
        "])\n",
        "face_dataset = ImageFolder(path, transform=transforms)"
      ]
    },
    {
      "cell_type": "code",
      "execution_count": null,
      "id": "07c83cd2",
      "metadata": {
        "id": "07c83cd2"
      },
      "outputs": [],
      "source": [
        "def standard_dev(dataset):\n",
        "    class_counting = torch.zeros(len(dataset.classes))\n",
        "    class_std = torch.zeros(len(dataset.classes))\n",
        "    for i in range(len(dataset)):\n",
        "        img, label = dataset[i]\n",
        "        class_std[label] += torch.std(img)\n",
        "        class_counting[label] += 1\n",
        "    for i in range(len(dataset.classes)):\n",
        "        class_std[i] /= class_counting[i]\n",
        "    return class_std\n",
        "utkface_std = standard_dev(face_dataset)"
      ]
    },
    {
      "cell_type": "code",
      "execution_count": 15,
      "id": "ce2da756",
      "metadata": {
        "colab": {
          "base_uri": "https://localhost:8080/",
          "height": 610
        },
        "id": "ce2da756",
        "outputId": "469ffeab-5c6d-41ac-a18b-58867d77f4b7"
      },
      "outputs": [
        {
          "output_type": "display_data",
          "data": {
            "text/plain": [
              "<Figure size 640x480 with 1 Axes>"
            ],
            "image/png": "[encoded data removed]"
          },
          "metadata": {}
        }
      ],
      "source": [
        "def plot_standard_dev(*std_per_class_datasets):\n",
        "    fig= plt.subplots()\n",
        "    abels = []\n",
        "    width = 1.0 / len(std_per_class_datasets)\n",
        "    ax=plt.subplots()\n",
        "    x = []\n",
        "    dataset_names = []\n",
        "    for i, (std_per_class, dataset) in enumerate(std_per_class_datasets):\n",
        "        dataset_name = os.path.basename(dataset.root.rstrip('/'))\n",
        "        class_counting = len(dataset.classes)\n",
        "        x += [j + (i - 0.5) * width for j in range(class_counting)]\n",
        "        labels += [f\"{dataset_name}: {c}\" for c in dataset.classes]\n",
        "        dataset_names.append(dataset_name.replace('BinarySplit', 'UTKFace'))\n",
        "        ax.bar(x[-class_counting:], std_per_class, width=width)\n",
        "    ax.set_xticks(x)\n",
        "    ax.set_xticklabels(labels, rotation=90, ha='right', fontsize=8)\n",
        "    ax.set_xlabel('Class')\n",
        "    ax.set_ylabel('Standard Deviation')\n",
        "    ax.set_title('Standard Deviation per Class')\n",
        "    ax.legend(dataset_names, bbox_to_anchor=(1.02, 1), loc='upper left')\n",
        "plot_standard_dev((utkface_std, face_dataset))\n",
        "plt.show()"
      ]
    }
  ],
  "metadata": {
    "kernelspec": {
      "display_name": "Python 3",
      "name": "python3"
    },
    "language_info": {
      "codemirror_mode": {
        "name": "ipython",
        "version": 3
      },
      "file_extension": ".py",
      "mimetype": "text/x-python",
      "name": "python",
      "nbconvert_exporter": "python",
      "pygments_lexer": "ipython3",
      "version": "3.9.13"
    },
    "colab": {
      "provenance": [],
      "machine_shape": "hm",
      "gpuType": "A100"
    },
    "accelerator": "GPU"
  },
  "nbformat": 4,
  "nbformat_minor": 5
}