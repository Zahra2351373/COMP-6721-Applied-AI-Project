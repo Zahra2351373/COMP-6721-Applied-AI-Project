{
  "cells": [
    {
      "cell_type": "code",
      "execution_count": 34,
      "id": "69f7f755",
      "metadata": {
        "id": "69f7f755"
      },
      "outputs": [],
      "source": [
        "import os\n",
        "import pandas as pd\n",
        "import matplotlib.pyplot as plt\n",
        "import seaborn as sns\n",
        "import shutil\n",
        "from matplotlib import rcParams\n",
        "import cv2"
      ]
    },
    {
      "cell_type": "code",
      "source": [
        "from google.colab import drive\n",
        "drive.mount('/content/drive')"
      ],
      "metadata": {
        "colab": {
          "base_uri": "https://localhost:8080/"
        },
        "id": "hGphwyDqvVPi",
        "outputId": "a5c430c3-bce3-4640-8af3-6ef97d846eb3"
      },
      "id": "hGphwyDqvVPi",
      "execution_count": 33,
      "outputs": [
        {
          "output_type": "stream",
          "name": "stdout",
          "text": [
            "Drive already mounted at /content/drive; to attempt to forcibly remount, call drive.mount(\"/content/drive\", force_remount=True).\n"
          ]
        }
      ]
    },
    {
      "cell_type": "code",
      "execution_count": 30,
      "id": "58ac6aaa",
      "metadata": {
        "id": "58ac6aaa"
      },
      "outputs": [],
      "source": [
        "path = \"/content/drive/MyDrive/Kaggle/UTKFace\""
      ]
    },
    {
      "cell_type": "code",
      "source": [
        "files = os.listdir(path)\n",
        "size = len(files)\n",
        "print(files[3])\n",
        "print(\"Total samples:\",size)"
      ],
      "metadata": {
        "colab": {
          "base_uri": "https://localhost:8080/"
        },
        "id": "OHyk0orK0QG2",
        "outputId": "416d60b3-2b1b-466f-964d-a1a8b2d5c0bf"
      },
      "id": "OHyk0orK0QG2",
      "execution_count": 31,
      "outputs": [
        {
          "output_type": "stream",
          "name": "stdout",
          "text": [
            "67_0_0_20170103184144627.jpg.chip.jpg\n",
            "Total samples: 12\n"
          ]
        }
      ]
    },
    {
      "cell_type": "code",
      "source": [
        "images = []\n",
        "ages = []\n",
        "genders = []\n",
        "for file in files:\n",
        "    p=os.path.join(path,file)\n",
        "    image = cv2.imread(p,0)\n",
        "    image = cv2.resize(image,dsize=(64,64))\n",
        "    image = image.reshape((image.shape[0],image.shape[1],1))\n",
        "    images.append(image)\n",
        "    split_var = file.split('_')\n",
        "    ages.append(split_var[0])\n",
        "    genders.append(int(split_var[1]) )"
      ],
      "metadata": {
        "id": "688kX2M306Jf"
      },
      "id": "688kX2M306Jf",
      "execution_count": null,
      "outputs": []
    },
    {
      "cell_type": "code",
      "execution_count": 16,
      "id": "42c81e1f",
      "metadata": {
        "colab": {
          "base_uri": "https://localhost:8080/",
          "height": 424
        },
        "id": "42c81e1f",
        "outputId": "82815427-aa2a-4e90-f0e6-b718d393dfaf"
      },
      "outputs": [
        {
          "output_type": "execute_result",
          "data": {
            "text/plain": [
              "                                             Image path Age\n",
              "0     [[[188], [142], [62], [54], [52], [53], [81], ...  36\n",
              "1     [[[126], [119], [128], [116], [93], [82], [72]...  54\n",
              "2     [[[36], [36], [39], [37], [35], [35], [36], [4...  26\n",
              "3     [[[23], [26], [30], [40], [55], [68], [75], [8...  32\n",
              "4     [[[60], [52], [47], [47], [56], [67], [82], [9...   6\n",
              "...                                                 ...  ..\n",
              "2840  [[[83], [89], [106], [134], [167], [186], [192...  30\n",
              "2841  [[[123], [187], [107], [151], [165], [216], [1...  72\n",
              "2842  [[[6], [9], [11], [8], [6], [9], [14], [12], [...  26\n",
              "2843  [[[24], [24], [24], [24], [24], [24], [25], [2...  37\n",
              "2844  [[[18], [24], [29], [33], [41], [48], [56], [7...  26\n",
              "\n",
              "[2845 rows x 2 columns]"
            ],
            "text/html": [
              "\n",
              "  <div id=\"df-f47645df-173b-4f4c-831f-08f7c71a571e\">\n",
              "    <div class=\"colab-df-container\">\n",
              "      <div>\n",
              "<style scoped>\n",
              "    .dataframe tbody tr th:only-of-type {\n",
              "        vertical-align: middle;\n",
              "    }\n",
              "\n",
              "    .dataframe tbody tr th {\n",
              "        vertical-align: top;\n",
              "    }\n",
              "\n",
              "    .dataframe thead th {\n",
              "        text-align: right;\n",
              "    }\n",
              "</style>\n",
              "<table border=\"1\" class=\"dataframe\">\n",
              "  <thead>\n",
              "    <tr style=\"text-align: right;\">\n",
              "      <th></th>\n",
              "      <th>Image path</th>\n",
              "      <th>Age</th>\n",
              "    </tr>\n",
              "  </thead>\n",
              "  <tbody>\n",
              "    <tr>\n",
              "      <th>0</th>\n",
              "      <td>[[[188], [142], [62], [54], [52], [53], [81], ...</td>\n",
              "      <td>36</td>\n",
              "    </tr>\n",
              "    <tr>\n",
              "      <th>1</th>\n",
              "      <td>[[[126], [119], [128], [116], [93], [82], [72]...</td>\n",
              "      <td>54</td>\n",
              "    </tr>\n",
              "    <tr>\n",
              "      <th>2</th>\n",
              "      <td>[[[36], [36], [39], [37], [35], [35], [36], [4...</td>\n",
              "      <td>26</td>\n",
              "    </tr>\n",
              "    <tr>\n",
              "      <th>3</th>\n",
              "      <td>[[[23], [26], [30], [40], [55], [68], [75], [8...</td>\n",
              "      <td>32</td>\n",
              "    </tr>\n",
              "    <tr>\n",
              "      <th>4</th>\n",
              "      <td>[[[60], [52], [47], [47], [56], [67], [82], [9...</td>\n",
              "      <td>6</td>\n",
              "    </tr>\n",
              "    <tr>\n",
              "      <th>...</th>\n",
              "      <td>...</td>\n",
              "      <td>...</td>\n",
              "    </tr>\n",
              "    <tr>\n",
              "      <th>2840</th>\n",
              "      <td>[[[83], [89], [106], [134], [167], [186], [192...</td>\n",
              "      <td>30</td>\n",
              "    </tr>\n",
              "    <tr>\n",
              "      <th>2841</th>\n",
              "      <td>[[[123], [187], [107], [151], [165], [216], [1...</td>\n",
              "      <td>72</td>\n",
              "    </tr>\n",
              "    <tr>\n",
              "      <th>2842</th>\n",
              "      <td>[[[6], [9], [11], [8], [6], [9], [14], [12], [...</td>\n",
              "      <td>26</td>\n",
              "    </tr>\n",
              "    <tr>\n",
              "      <th>2843</th>\n",
              "      <td>[[[24], [24], [24], [24], [24], [24], [25], [2...</td>\n",
              "      <td>37</td>\n",
              "    </tr>\n",
              "    <tr>\n",
              "      <th>2844</th>\n",
              "      <td>[[[18], [24], [29], [33], [41], [48], [56], [7...</td>\n",
              "      <td>26</td>\n",
              "    </tr>\n",
              "  </tbody>\n",
              "</table>\n",
              "<p>2845 rows × 2 columns</p>\n",
              "</div>\n",
              "      <button class=\"colab-df-convert\" onclick=\"convertToInteractive('df-f47645df-173b-4f4c-831f-08f7c71a571e')\"\n",
              "              title=\"Convert this dataframe to an interactive table.\"\n",
              "              style=\"display:none;\">\n",
              "        \n",
              "  <svg xmlns=\"http://www.w3.org/2000/svg\" height=\"24px\"viewBox=\"0 0 24 24\"\n",
              "       width=\"24px\">\n",
              "    <path d=\"M0 0h24v24H0V0z\" fill=\"none\"/>\n",
              "    <path d=\"M18.56 5.44l.94 2.06.94-2.06 2.06-.94-2.06-.94-.94-2.06-.94 2.06-2.06.94zm-11 1L8.5 8.5l.94-2.06 2.06-.94-2.06-.94L8.5 2.5l-.94 2.06-2.06.94zm10 10l.94 2.06.94-2.06 2.06-.94-2.06-.94-.94-2.06-.94 2.06-2.06.94z\"/><path d=\"M17.41 7.96l-1.37-1.37c-.4-.4-.92-.59-1.43-.59-.52 0-1.04.2-1.43.59L10.3 9.45l-7.72 7.72c-.78.78-.78 2.05 0 2.83L4 21.41c.39.39.9.59 1.41.59.51 0 1.02-.2 1.41-.59l7.78-7.78 2.81-2.81c.8-.78.8-2.07 0-2.86zM5.41 20L4 18.59l7.72-7.72 1.47 1.35L5.41 20z\"/>\n",
              "  </svg>\n",
              "      </button>\n",
              "      \n",
              "  <style>\n",
              "    .colab-df-container {\n",
              "      display:flex;\n",
              "      flex-wrap:wrap;\n",
              "      gap: 12px;\n",
              "    }\n",
              "\n",
              "    .colab-df-convert {\n",
              "      background-color: #E8F0FE;\n",
              "      border: none;\n",
              "      border-radius: 50%;\n",
              "      cursor: pointer;\n",
              "      display: none;\n",
              "      fill: #1967D2;\n",
              "      height: 32px;\n",
              "      padding: 0 0 0 0;\n",
              "      width: 32px;\n",
              "    }\n",
              "\n",
              "    .colab-df-convert:hover {\n",
              "      background-color: #E2EBFA;\n",
              "      box-shadow: 0px 1px 2px rgba(60, 64, 67, 0.3), 0px 1px 3px 1px rgba(60, 64, 67, 0.15);\n",
              "      fill: #174EA6;\n",
              "    }\n",
              "\n",
              "    [theme=dark] .colab-df-convert {\n",
              "      background-color: #3B4455;\n",
              "      fill: #D2E3FC;\n",
              "    }\n",
              "\n",
              "    [theme=dark] .colab-df-convert:hover {\n",
              "      background-color: #434B5C;\n",
              "      box-shadow: 0px 1px 3px 1px rgba(0, 0, 0, 0.15);\n",
              "      filter: drop-shadow(0px 1px 2px rgba(0, 0, 0, 0.3));\n",
              "      fill: #FFFFFF;\n",
              "    }\n",
              "  </style>\n",
              "\n",
              "      <script>\n",
              "        const buttonEl =\n",
              "          document.querySelector('#df-f47645df-173b-4f4c-831f-08f7c71a571e button.colab-df-convert');\n",
              "        buttonEl.style.display =\n",
              "          google.colab.kernel.accessAllowed ? 'block' : 'none';\n",
              "\n",
              "        async function convertToInteractive(key) {\n",
              "          const element = document.querySelector('#df-f47645df-173b-4f4c-831f-08f7c71a571e');\n",
              "          const dataTable =\n",
              "            await google.colab.kernel.invokeFunction('convertToInteractive',\n",
              "                                                     [key], {});\n",
              "          if (!dataTable) return;\n",
              "\n",
              "          const docLinkHtml = 'Like what you see? Visit the ' +\n",
              "            '<a target=\"_blank\" href=https://colab.research.google.com/notebooks/data_table.ipynb>data table notebook</a>'\n",
              "            + ' to learn more about interactive tables.';\n",
              "          element.innerHTML = '';\n",
              "          dataTable['output_type'] = 'display_data';\n",
              "          await google.colab.output.renderOutput(dataTable, element);\n",
              "          const docLink = document.createElement('div');\n",
              "          docLink.innerHTML = docLinkHtml;\n",
              "          element.appendChild(docLink);\n",
              "        }\n",
              "      </script>\n",
              "    </div>\n",
              "  </div>\n",
              "  "
            ]
          },
          "metadata": {},
          "execution_count": 16
        }
      ],
      "source": [
        "df =pd.DataFrame({'Image path': images,'Age': ages})\n",
        "df"
      ]
    },
    {
      "cell_type": "code",
      "execution_count": 19,
      "id": "b8c7cb5b",
      "metadata": {
        "id": "b8c7cb5b"
      },
      "outputs": [],
      "source": [
        "sns.set_context('paper')"
      ]
    },
    {
      "cell_type": "code",
      "execution_count": 20,
      "id": "2de37155",
      "metadata": {
        "id": "2de37155"
      },
      "outputs": [],
      "source": [
        "rcParams['figure.figsize'] = 30,15"
      ]
    },
    {
      "cell_type": "code",
      "execution_count": 22,
      "id": "621c43bb",
      "metadata": {
        "id": "621c43bb"
      },
      "outputs": [],
      "source": [
        "path = path\n",
        "files = os.listdir(path)\n",
        "data = []\n",
        "for file in files:\n",
        "    file_path = os.path.join(path, file)\n",
        "    age = int(file.split('_')[0])\n",
        "    data.append([file_path, age])\n",
        "df = pd.DataFrame(data, columns=['file_path', 'age'])"
      ]
    },
    {
      "cell_type": "code",
      "execution_count": 24,
      "id": "7c92c2e6",
      "metadata": {
        "id": "7c92c2e6",
        "outputId": "c98ab197-ed7f-42e7-9f69-47deeb28c263",
        "colab": {
          "base_uri": "https://localhost:8080/",
          "height": 424
        }
      },
      "outputs": [
        {
          "output_type": "execute_result",
          "data": {
            "text/plain": [
              "                                              file_path  age\n",
              "0     /content/drive/MyDrive/UTKFace/36_0_0_20170117...   36\n",
              "1     /content/drive/MyDrive/UTKFace/54_1_0_20170104...   54\n",
              "2     /content/drive/MyDrive/UTKFace/26_0_1_20170116...   26\n",
              "3     /content/drive/MyDrive/UTKFace/32_1_0_20170117...   32\n",
              "4     /content/drive/MyDrive/UTKFace/6_1_1_201701172...    6\n",
              "...                                                 ...  ...\n",
              "2888  /content/drive/MyDrive/UTKFace/36_1_1_20170109...   36\n",
              "2889  /content/drive/MyDrive/UTKFace/66_0_0_20170109...   66\n",
              "2890  /content/drive/MyDrive/UTKFace/69_0_1_20170113...   69\n",
              "2891  /content/drive/MyDrive/UTKFace/45_1_0_20170117...   45\n",
              "2892  /content/drive/MyDrive/UTKFace/18_0_0_20170110...   18\n",
              "\n",
              "[2893 rows x 2 columns]"
            ],
            "text/html": [
              "\n",
              "  <div id=\"df-e39172a1-e150-42d1-9ade-75500cd3d0df\">\n",
              "    <div class=\"colab-df-container\">\n",
              "      <div>\n",
              "<style scoped>\n",
              "    .dataframe tbody tr th:only-of-type {\n",
              "        vertical-align: middle;\n",
              "    }\n",
              "\n",
              "    .dataframe tbody tr th {\n",
              "        vertical-align: top;\n",
              "    }\n",
              "\n",
              "    .dataframe thead th {\n",
              "        text-align: right;\n",
              "    }\n",
              "</style>\n",
              "<table border=\"1\" class=\"dataframe\">\n",
              "  <thead>\n",
              "    <tr style=\"text-align: right;\">\n",
              "      <th></th>\n",
              "      <th>file_path</th>\n",
              "      <th>age</th>\n",
              "    </tr>\n",
              "  </thead>\n",
              "  <tbody>\n",
              "    <tr>\n",
              "      <th>0</th>\n",
              "      <td>/content/drive/MyDrive/UTKFace/36_0_0_20170117...</td>\n",
              "      <td>36</td>\n",
              "    </tr>\n",
              "    <tr>\n",
              "      <th>1</th>\n",
              "      <td>/content/drive/MyDrive/UTKFace/54_1_0_20170104...</td>\n",
              "      <td>54</td>\n",
              "    </tr>\n",
              "    <tr>\n",
              "      <th>2</th>\n",
              "      <td>/content/drive/MyDrive/UTKFace/26_0_1_20170116...</td>\n",
              "      <td>26</td>\n",
              "    </tr>\n",
              "    <tr>\n",
              "      <th>3</th>\n",
              "      <td>/content/drive/MyDrive/UTKFace/32_1_0_20170117...</td>\n",
              "      <td>32</td>\n",
              "    </tr>\n",
              "    <tr>\n",
              "      <th>4</th>\n",
              "      <td>/content/drive/MyDrive/UTKFace/6_1_1_201701172...</td>\n",
              "      <td>6</td>\n",
              "    </tr>\n",
              "    <tr>\n",
              "      <th>...</th>\n",
              "      <td>...</td>\n",
              "      <td>...</td>\n",
              "    </tr>\n",
              "    <tr>\n",
              "      <th>2888</th>\n",
              "      <td>/content/drive/MyDrive/UTKFace/36_1_1_20170109...</td>\n",
              "      <td>36</td>\n",
              "    </tr>\n",
              "    <tr>\n",
              "      <th>2889</th>\n",
              "      <td>/content/drive/MyDrive/UTKFace/66_0_0_20170109...</td>\n",
              "      <td>66</td>\n",
              "    </tr>\n",
              "    <tr>\n",
              "      <th>2890</th>\n",
              "      <td>/content/drive/MyDrive/UTKFace/69_0_1_20170113...</td>\n",
              "      <td>69</td>\n",
              "    </tr>\n",
              "    <tr>\n",
              "      <th>2891</th>\n",
              "      <td>/content/drive/MyDrive/UTKFace/45_1_0_20170117...</td>\n",
              "      <td>45</td>\n",
              "    </tr>\n",
              "    <tr>\n",
              "      <th>2892</th>\n",
              "      <td>/content/drive/MyDrive/UTKFace/18_0_0_20170110...</td>\n",
              "      <td>18</td>\n",
              "    </tr>\n",
              "  </tbody>\n",
              "</table>\n",
              "<p>2893 rows × 2 columns</p>\n",
              "</div>\n",
              "      <button class=\"colab-df-convert\" onclick=\"convertToInteractive('df-e39172a1-e150-42d1-9ade-75500cd3d0df')\"\n",
              "              title=\"Convert this dataframe to an interactive table.\"\n",
              "              style=\"display:none;\">\n",
              "        \n",
              "  <svg xmlns=\"http://www.w3.org/2000/svg\" height=\"24px\"viewBox=\"0 0 24 24\"\n",
              "       width=\"24px\">\n",
              "    <path d=\"M0 0h24v24H0V0z\" fill=\"none\"/>\n",
              "    <path d=\"M18.56 5.44l.94 2.06.94-2.06 2.06-.94-2.06-.94-.94-2.06-.94 2.06-2.06.94zm-11 1L8.5 8.5l.94-2.06 2.06-.94-2.06-.94L8.5 2.5l-.94 2.06-2.06.94zm10 10l.94 2.06.94-2.06 2.06-.94-2.06-.94-.94-2.06-.94 2.06-2.06.94z\"/><path d=\"M17.41 7.96l-1.37-1.37c-.4-.4-.92-.59-1.43-.59-.52 0-1.04.2-1.43.59L10.3 9.45l-7.72 7.72c-.78.78-.78 2.05 0 2.83L4 21.41c.39.39.9.59 1.41.59.51 0 1.02-.2 1.41-.59l7.78-7.78 2.81-2.81c.8-.78.8-2.07 0-2.86zM5.41 20L4 18.59l7.72-7.72 1.47 1.35L5.41 20z\"/>\n",
              "  </svg>\n",
              "      </button>\n",
              "      \n",
              "  <style>\n",
              "    .colab-df-container {\n",
              "      display:flex;\n",
              "      flex-wrap:wrap;\n",
              "      gap: 12px;\n",
              "    }\n",
              "\n",
              "    .colab-df-convert {\n",
              "      background-color: #E8F0FE;\n",
              "      border: none;\n",
              "      border-radius: 50%;\n",
              "      cursor: pointer;\n",
              "      display: none;\n",
              "      fill: #1967D2;\n",
              "      height: 32px;\n",
              "      padding: 0 0 0 0;\n",
              "      width: 32px;\n",
              "    }\n",
              "\n",
              "    .colab-df-convert:hover {\n",
              "      background-color: #E2EBFA;\n",
              "      box-shadow: 0px 1px 2px rgba(60, 64, 67, 0.3), 0px 1px 3px 1px rgba(60, 64, 67, 0.15);\n",
              "      fill: #174EA6;\n",
              "    }\n",
              "\n",
              "    [theme=dark] .colab-df-convert {\n",
              "      background-color: #3B4455;\n",
              "      fill: #D2E3FC;\n",
              "    }\n",
              "\n",
              "    [theme=dark] .colab-df-convert:hover {\n",
              "      background-color: #434B5C;\n",
              "      box-shadow: 0px 1px 3px 1px rgba(0, 0, 0, 0.15);\n",
              "      filter: drop-shadow(0px 1px 2px rgba(0, 0, 0, 0.3));\n",
              "      fill: #FFFFFF;\n",
              "    }\n",
              "  </style>\n",
              "\n",
              "      <script>\n",
              "        const buttonEl =\n",
              "          document.querySelector('#df-e39172a1-e150-42d1-9ade-75500cd3d0df button.colab-df-convert');\n",
              "        buttonEl.style.display =\n",
              "          google.colab.kernel.accessAllowed ? 'block' : 'none';\n",
              "\n",
              "        async function convertToInteractive(key) {\n",
              "          const element = document.querySelector('#df-e39172a1-e150-42d1-9ade-75500cd3d0df');\n",
              "          const dataTable =\n",
              "            await google.colab.kernel.invokeFunction('convertToInteractive',\n",
              "                                                     [key], {});\n",
              "          if (!dataTable) return;\n",
              "\n",
              "          const docLinkHtml = 'Like what you see? Visit the ' +\n",
              "            '<a target=\"_blank\" href=https://colab.research.google.com/notebooks/data_table.ipynb>data table notebook</a>'\n",
              "            + ' to learn more about interactive tables.';\n",
              "          element.innerHTML = '';\n",
              "          dataTable['output_type'] = 'display_data';\n",
              "          await google.colab.output.renderOutput(dataTable, element);\n",
              "          const docLink = document.createElement('div');\n",
              "          docLink.innerHTML = docLinkHtml;\n",
              "          element.appendChild(docLink);\n",
              "        }\n",
              "      </script>\n",
              "    </div>\n",
              "  </div>\n",
              "  "
            ]
          },
          "metadata": {},
          "execution_count": 24
        }
      ],
      "source": [
        "df['age'].sort_values()\n",
        "df"
      ]
    },
    {
      "cell_type": "code",
      "execution_count": 25,
      "id": "b30270ee",
      "metadata": {
        "id": "b30270ee"
      },
      "outputs": [],
      "source": [
        "import os\n",
        "path = path\n",
        "os.makedirs(os.path.join(path, 'LessThan28'), exist_ok=True)\n",
        "os.makedirs(os.path.join(path, 'GreaterThan29'), exist_ok=True)\n",
        "for index, row in df.iterrows():\n",
        "    file_path = row['file_path']\n",
        "    age = row['age']\n",
        "\n",
        "\n",
        "    if age <= 28:\n",
        "        shutil.move(file_path, os.path.join(path, 'LessThan28', os.path.basename(file_path)))\n",
        "    else :\n",
        "        shutil.move(file_path, os.path.join(path, 'GreaterThan29', os.path.basename(file_path)))"
      ]
    },
    {
      "cell_type": "code",
      "execution_count": null,
      "id": "9c3a1b30",
      "metadata": {
        "id": "9c3a1b30"
      },
      "outputs": [],
      "source": [
        "path = path\n",
        "counts = {'LessThan28': 0, 'GreaterThan29': 0}\n",
        "for age_group in counts.keys():\n",
        "    folder_path = os.path.join(path, age_group)\n",
        "    images = [f for f in os.listdir(folder_path) if f.endswith('.jpg')]\n",
        "    counts[age_group] = len(images)"
      ]
    }
  ],
  "metadata": {
    "kernelspec": {
      "display_name": "Python 3",
      "name": "python3"
    },
    "language_info": {
      "codemirror_mode": {
        "name": "ipython",
        "version": 3
      },
      "file_extension": ".py",
      "mimetype": "text/x-python",
      "name": "python",
      "nbconvert_exporter": "python",
      "pygments_lexer": "ipython3",
      "version": "3.9.13"
    },
    "colab": {
      "provenance": [],
      "gpuType": "T4"
    },
    "accelerator": "GPU"
  },
  "nbformat": 4,
  "nbformat_minor": 5
}