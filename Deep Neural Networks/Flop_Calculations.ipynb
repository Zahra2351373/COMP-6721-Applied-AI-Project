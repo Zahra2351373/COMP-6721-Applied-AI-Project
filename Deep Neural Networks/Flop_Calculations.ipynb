{
  "cells": [
    {
      "cell_type": "code",
      "execution_count": null,
      "id": "9734141e",
      "metadata": {
        "id": "9734141e"
      },
      "outputs": [],
      "source": [
        "import cv2\n",
        "import os\n",
        "import shutil\n",
        "import torch,torchvision\n",
        "import math\n",
        "import pandas\n",
        "import natsort\n",
        "import torchvision.transforms as transforms\n",
        "from torchvision import datasets\n",
        "import torch.optim as optim\n",
        "import numpy as np\n",
        "from PIL import Image, ImageFilter\n",
        "from torchvision.datasets import ImageFolder\n",
        "from torch.utils.data import DataLoader\n",
        "from sklearn.preprocessing import label_binarize\n",
        "from itertools import cycle\n",
        "from sklearn.metrics import confusion_matrix\n",
        "import seaborn as sns\n",
        "import pandas as pd\n",
        "import matplotlib.pyplot as plt\n",
        "from sklearn.metrics import roc_curve, auc\n",
        "import torch\n",
        "from torchsummary import summary\n",
        "%matplotlib inline"
      ]
    },
    {
      "cell_type": "code",
      "source": [
        "from google.colab import drive\n",
        "drive.mount('/content/drive')"
      ],
      "metadata": {
        "colab": {
          "base_uri": "https://localhost:8080/"
        },
        "id": "-gS5TFlAGVDD",
        "outputId": "ce2e1119-8fe2-4646-c2c5-f3dafa87390e"
      },
      "id": "-gS5TFlAGVDD",
      "execution_count": null,
      "outputs": [
        {
          "output_type": "stream",
          "name": "stdout",
          "text": [
            "Drive already mounted at /content/drive; to attempt to forcibly remount, call drive.mount(\"/content/drive\", force_remount=True).\n"
          ]
        }
      ]
    },
    {
      "cell_type": "code",
      "source": [
        "path = \"/content/drive/MyDrive/BinarySplit\""
      ],
      "metadata": {
        "id": "kpEw_1PbGhJI"
      },
      "id": "kpEw_1PbGhJI",
      "execution_count": null,
      "outputs": []
    },
    {
      "cell_type": "code",
      "source": [
        "path = path\n",
        "class_dirs = os.listdir(path)"
      ],
      "metadata": {
        "id": "1D8JK2DZl46r"
      },
      "id": "1D8JK2DZl46r",
      "execution_count": null,
      "outputs": []
    },
    {
      "cell_type": "code",
      "execution_count": null,
      "id": "329471bd",
      "metadata": {
        "id": "329471bd"
      },
      "outputs": [],
      "source": [
        "def load_data(path, test_split, val_split, batch_size, input_size):\n",
        "    modifyDict={'src':transforms.Compose([transforms.RandomHorizontalFlip(),\n",
        "                                              transforms.Resize((224,224)),\n",
        "                      transforms.RandomVerticalFlip(),\n",
        "                      transforms.RandomRotation(15),\n",
        "                      transforms.ToTensor(),\n",
        "                      transforms.Normalize(mean=[0.485, 0.456, 0.406], std=[0.229, 0.224, 0.225])])}\n",
        "    org_data = datasets.ImageFolder(root=path,transform =modifyDict['src'])\n",
        "    testSubsetSize=int(len(org_data)*test_split)\n",
        "    valDataSize=int(len(org_data)*val_split)\n",
        "    trainSubsetSize=len(org_data)-valDataSize-testSubsetSize\n",
        "    train_dataset,test_dataset,val_dataset = torch.utils.data.random_split(org_data,[trainSubsetSize,testSubsetSize,valDataSize])\n",
        "    trainSetDataLoader = DataLoader(train_dataset,batch_size,shuffle=True)\n",
        "    testSetDataLoader = DataLoader(test_dataset,batch_size,shuffle=False)\n",
        "    valSetDataLoader = DataLoader(val_dataset,batch_size,shuffle=False)\n",
        "    return trainSetDataLoader, testSetDataLoader, valSetDataLoader"
      ]
    },
    {
      "cell_type": "code",
      "source": [
        "train_loader,test_loader,val_loader=load_data(path=path,\n",
        "                                              test_split=0.1,val_split= 0.1,batch_size=32, input_size=[200,200])"
      ],
      "metadata": {
        "id": "LRkpd2qbncrv"
      },
      "id": "LRkpd2qbncrv",
      "execution_count": null,
      "outputs": []
    },
    {
      "cell_type": "code",
      "source": [
        "model = torchvision.models.mobilenet_v2(pretrained=False, num_classes=2)\n",
        "optimizer = optim.Adam(model.parameters(), lr=0.01)\n",
        "criterion = torch.nn.CrossEntropyLoss()\n",
        "device = torch.device('cpu' if torch.cuda.is_available() else 'cuda')\n",
        "model = model.to(device)"
      ],
      "metadata": {
        "id": "p07xdqhFnhW1"
      },
      "id": "p07xdqhFnhW1",
      "execution_count": null,
      "outputs": []
    },
    {
      "cell_type": "code",
      "execution_count": null,
      "id": "e4d5c5b9",
      "metadata": {
        "colab": {
          "base_uri": "https://localhost:8080/"
        },
        "id": "e4d5c5b9",
        "outputId": "4078b1c3-0982-4641-c3a3-f37478352ffc"
      },
      "outputs": [
        {
          "output_type": "stream",
          "name": "stdout",
          "text": [
            "FLOPS: 4018.565 billion\n"
          ]
        }
      ],
      "source": [
        "flops_calc = 0\n",
        "for name, module in model.named_modules():\n",
        "    if isinstance(module, torch.nn.Conv2d):\n",
        "        flops_calc += 2 * module.in_channels * module.out_channels * module.kernel_size[0] ** 2 * (224 // module.stride[0]) ** 2\n",
        "    elif isinstance(module, torch.nn.Linear):\n",
        "        flops_calc+= 2 * module.in_features * module.out_features\n",
        "\n",
        "print(f\"FLOPS: {flops_calc / 1e9:.3f} billion\")"
      ]
    },
    {
      "cell_type": "code",
      "source": [
        "model = torchvision.models.resnet18(pretrained=False, num_classes=2)\n",
        "optimizer = optim.Adam(model.parameters(), lr=0.01)\n",
        "criterion = torch.nn.CrossEntropyLoss()\n",
        "device = torch.device('cpu' if torch.cuda.is_available() else 'cuda')\n",
        "model = model.to(device)"
      ],
      "metadata": {
        "id": "taK_gf-ooD3B"
      },
      "id": "taK_gf-ooD3B",
      "execution_count": null,
      "outputs": []
    },
    {
      "cell_type": "code",
      "source": [
        "flops_calc= 0\n",
        "for name, module in model.named_modules():\n",
        "    if isinstance(module, torch.nn.Conv2d):\n",
        "        flops_calc += 2 * module.in_channels * module.out_channels * module.kernel_size[0] ** 2 * (224 // module.stride[0]) ** 2\n",
        "    elif isinstance(module, torch.nn.Linear):\n",
        "        flops_calc += 2 * module.in_features * module.out_features\n",
        "\n",
        "print(f\"FLOPS: {flops_calc / 1e9:.3f} billion\")"
      ],
      "metadata": {
        "colab": {
          "base_uri": "https://localhost:8080/"
        },
        "id": "cktgEoUD4ymA",
        "outputId": "e3c2b974-ef55-4cb8-e718-03518fb7098c"
      },
      "id": "cktgEoUD4ymA",
      "execution_count": null,
      "outputs": [
        {
          "output_type": "stream",
          "name": "stdout",
          "text": [
            "FLOPS: 990.436 billion\n"
          ]
        }
      ]
    },
    {
      "cell_type": "code",
      "source": [
        "model = torchvision.models.shufflenet_v2_x1_0(pretrained=False, num_classes=2)\n",
        "optimizer = optim.Adam(model.parameters(), lr=0.01)\n",
        "criterion = torch.nn.CrossEntropyLoss()\n",
        "\n",
        "device = torch.device('cpu' if torch.cuda.is_available() else 'cuda')\n",
        "model = model.to(device)"
      ],
      "metadata": {
        "id": "HRqZfxpRoKE5"
      },
      "id": "HRqZfxpRoKE5",
      "execution_count": null,
      "outputs": []
    },
    {
      "cell_type": "code",
      "execution_count": null,
      "id": "5b3a0c19",
      "metadata": {
        "colab": {
          "base_uri": "https://localhost:8080/"
        },
        "id": "5b3a0c19",
        "outputId": "e504755e-551d-419f-e498-8e6480fe6d52"
      },
      "outputs": [
        {
          "output_type": "stream",
          "name": "stdout",
          "text": [
            "FLOPS: 393.202 billion\n"
          ]
        }
      ],
      "source": [
        "flops_calc = 0\n",
        "for name, module in model.named_modules():\n",
        "    if isinstance(module, torch.nn.Conv2d):\n",
        "        flops_calc += 2 * module.in_channels * module.out_channels * module.kernel_size[0] ** 2 * (224 // module.stride[0]) ** 2\n",
        "    elif isinstance(module, torch.nn.Linear):\n",
        "        flops_calc += 2 * module.in_features * module.out_features\n",
        "\n",
        "print(f\"FLOPS: {flops_calc / 1e9:.3f} billion\")"
      ]
    }
  ],
  "metadata": {
    "kernelspec": {
      "display_name": "Python 3",
      "name": "python3"
    },
    "language_info": {
      "codemirror_mode": {
        "name": "ipython",
        "version": 3
      },
      "file_extension": ".py",
      "mimetype": "text/x-python",
      "name": "python",
      "nbconvert_exporter": "python",
      "pygments_lexer": "ipython3",
      "version": "3.9.13"
    },
    "colab": {
      "provenance": [],
      "machine_shape": "hm",
      "gpuType": "A100"
    },
    "accelerator": "GPU"
  },
  "nbformat": 4,
  "nbformat_minor": 5
}