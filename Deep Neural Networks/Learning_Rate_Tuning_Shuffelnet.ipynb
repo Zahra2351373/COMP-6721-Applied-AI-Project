{
  "cells": [
    {
      "cell_type": "code",
      "execution_count": null,
      "id": "009eefe1",
      "metadata": {
        "id": "009eefe1"
      },
      "outputs": [],
      "source": [
        "import os\n",
        "import numpy as np\n",
        "from PIL import Image, ImageFilter\n",
        "import cv2\n",
        "import torch,torchvision\n",
        "import torchvision.transforms as transforms\n",
        "from torchvision import datasets\n",
        "import torch.optim as optim\n",
        "from torchvision.datasets import ImageFolder\n",
        "from torch.utils.data import DataLoader\n",
        "from sklearn.preprocessing import label_binarize\n",
        "from itertools import cycle\n",
        "import matplotlib.pyplot as plt\n",
        "%matplotlib inline"
      ]
    },
    {
      "cell_type": "code",
      "source": [
        "from google.colab import drive\n",
        "drive.mount('/content/drive')"
      ],
      "metadata": {
        "colab": {
          "base_uri": "https://localhost:8080/"
        },
        "id": "7RUcU_TAjeXi",
        "outputId": "9f639332-c1c6-4c6f-db81-07db9b7b26b2"
      },
      "id": "7RUcU_TAjeXi",
      "execution_count": null,
      "outputs": [
        {
          "output_type": "stream",
          "name": "stdout",
          "text": [
            "Mounted at /content/drive\n"
          ]
        }
      ]
    },
    {
      "cell_type": "code",
      "source": [
        "path = \"/content/drive/MyDrive/BinarySplit1\""
      ],
      "metadata": {
        "id": "FPkLbYo6jlYH"
      },
      "id": "FPkLbYo6jlYH",
      "execution_count": null,
      "outputs": []
    },
    {
      "cell_type": "code",
      "execution_count": null,
      "id": "476f4cbb",
      "metadata": {
        "id": "476f4cbb"
      },
      "outputs": [],
      "source": [
        "def load_data(path, test_split, val_split, batch_size, input_size):\n",
        "\n",
        "    transform_dict = {'src':transforms.Compose([transforms.RandomHorizontalFlip(),\n",
        "                                                transforms.Resize((224,224)),\n",
        "                                                transforms.RandomVerticalFlip(),\n",
        "                                                transforms.RandomRotation(15),\n",
        "                                                transforms.ToTensor(),\n",
        "                                                transforms.Normalize(mean=[0.485, 0.456, 0.406], std=[0.229, 0.224, 0.225])])}\n",
        "\n",
        "    org_data = datasets.ImageFolder(root=path,transform =transform_dict['src'])\n",
        "    testSubsetSize = int(len(org_data) * test_split)\n",
        "    valDataSize = int(len(org_data) * val_split)\n",
        "    trainSubsetSize = len(org_data) - valDataSize - testSubsetSize\n",
        "    train_dataset, test_dataset, val_dataset = torch.utils.data.random_split(org_data,[trainSubsetSize, testSubsetSize, valDataSize])\n",
        "    trainSetDataLoader = DataLoader(train_dataset, batch_size, shuffle=True)\n",
        "    testSetDataLoader = DataLoader(test_dataset, batch_size, shuffle=False)\n",
        "    valSetDataLoader = DataLoader(val_dataset, batch_size, shuffle=False)\n",
        "\n",
        "    return trainSetDataLoader, testSetDataLoader, valSetDataLoader"
      ]
    },
    {
      "cell_type": "code",
      "execution_count": null,
      "id": "b6b37519",
      "metadata": {
        "id": "b6b37519"
      },
      "outputs": [],
      "source": [
        "train_loader,test_loader,val_loader=load_data(path,test_split=0.1,val_split= 0.1,batch_size=32, input_size=[200,200])"
      ]
    },
    {
      "cell_type": "code",
      "execution_count": null,
      "id": "ce7d124c",
      "metadata": {
        "colab": {
          "base_uri": "https://localhost:8080/"
        },
        "id": "ce7d124c",
        "outputId": "43f5abf4-cb88-4b61-b60a-67e30d2bf971"
      },
      "outputs": [
        {
          "metadata": {
            "tags": null
          },
          "name": "stderr",
          "output_type": "stream",
          "text": [
            "/usr/local/lib/python3.10/dist-packages/torchvision/models/_utils.py:208: UserWarning: The parameter 'pretrained' is deprecated since 0.13 and may be removed in the future, please use 'weights' instead.\n",
            "  warnings.warn(\n",
            "/usr/local/lib/python3.10/dist-packages/torchvision/models/_utils.py:223: UserWarning: Arguments other than a weight enum or `None` for 'weights' are deprecated since 0.13 and may be removed in the future. The current behavior is equivalent to passing `weights=None`.\n",
            "  warnings.warn(msg)\n"
          ]
        },
        {
          "output_type": "stream",
          "name": "stdout",
          "text": [
            "Epoch 1, Training loss: 0.695, Training accuracy: 0.572, Validation accuracy: 0.613\n",
            "Epoch 2, Training loss: 0.647, Training accuracy: 0.616, Validation accuracy: 0.662\n",
            "Epoch 3, Training loss: 0.619, Training accuracy: 0.666, Validation accuracy: 0.680\n",
            "Epoch 4, Training loss: 0.603, Training accuracy: 0.676, Validation accuracy: 0.693\n",
            "Epoch 5, Training loss: 0.580, Training accuracy: 0.701, Validation accuracy: 0.696\n",
            "Epoch 6, Training loss: 0.564, Training accuracy: 0.712, Validation accuracy: 0.707\n",
            "Epoch 7, Training loss: 0.550, Training accuracy: 0.722, Validation accuracy: 0.691\n",
            "Epoch 8, Training loss: 0.546, Training accuracy: 0.722, Validation accuracy: 0.751\n",
            "Epoch 9, Training loss: 0.534, Training accuracy: 0.731, Validation accuracy: 0.709\n",
            "Epoch 10, Training loss: 0.525, Training accuracy: 0.735, Validation accuracy: 0.707\n",
            "Epoch 11, Training loss: 0.506, Training accuracy: 0.751, Validation accuracy: 0.753\n",
            "Epoch 12, Training loss: 0.515, Training accuracy: 0.747, Validation accuracy: 0.731\n",
            "Epoch 13, Training loss: 0.499, Training accuracy: 0.754, Validation accuracy: 0.751\n",
            "Epoch 14, Training loss: 0.492, Training accuracy: 0.763, Validation accuracy: 0.749\n",
            "Epoch 15, Training loss: 0.488, Training accuracy: 0.763, Validation accuracy: 0.722\n",
            "Epoch 16, Training loss: 0.472, Training accuracy: 0.777, Validation accuracy: 0.720\n",
            "Epoch 17, Training loss: 0.467, Training accuracy: 0.771, Validation accuracy: 0.742\n",
            "Epoch 18, Training loss: 0.466, Training accuracy: 0.775, Validation accuracy: 0.731\n",
            "Epoch 19, Training loss: 0.464, Training accuracy: 0.775, Validation accuracy: 0.740\n",
            "Epoch 20, Training loss: 0.462, Training accuracy: 0.779, Validation accuracy: 0.727\n",
            "Epoch 21, Training loss: 0.453, Training accuracy: 0.782, Validation accuracy: 0.758\n",
            "Epoch 22, Training loss: 0.445, Training accuracy: 0.791, Validation accuracy: 0.756\n",
            "Epoch 23, Training loss: 0.445, Training accuracy: 0.792, Validation accuracy: 0.738\n",
            "Epoch 24, Training loss: 0.431, Training accuracy: 0.795, Validation accuracy: 0.756\n",
            "Epoch 25, Training loss: 0.436, Training accuracy: 0.798, Validation accuracy: 0.727\n",
            "Epoch 26, Training loss: 0.436, Training accuracy: 0.794, Validation accuracy: 0.751\n",
            "Epoch 27, Training loss: 0.417, Training accuracy: 0.802, Validation accuracy: 0.744\n",
            "Epoch 28, Training loss: 0.421, Training accuracy: 0.804, Validation accuracy: 0.769\n",
            "Epoch 29, Training loss: 0.416, Training accuracy: 0.806, Validation accuracy: 0.758\n",
            "Epoch 30, Training loss: 0.412, Training accuracy: 0.807, Validation accuracy: 0.736\n",
            "Epoch 31, Training loss: 0.406, Training accuracy: 0.811, Validation accuracy: 0.778\n",
            "Epoch 32, Training loss: 0.413, Training accuracy: 0.812, Validation accuracy: 0.756\n",
            "Epoch 33, Training loss: 0.402, Training accuracy: 0.814, Validation accuracy: 0.760\n",
            "Epoch 34, Training loss: 0.391, Training accuracy: 0.822, Validation accuracy: 0.740\n",
            "Epoch 35, Training loss: 0.396, Training accuracy: 0.817, Validation accuracy: 0.744\n",
            "Epoch 36, Training loss: 0.379, Training accuracy: 0.822, Validation accuracy: 0.749\n",
            "Epoch 37, Training loss: 0.380, Training accuracy: 0.834, Validation accuracy: 0.767\n",
            "Epoch 38, Training loss: 0.369, Training accuracy: 0.833, Validation accuracy: 0.744\n",
            "Epoch 39, Training loss: 0.384, Training accuracy: 0.829, Validation accuracy: 0.767\n",
            "Epoch 40, Training loss: 0.367, Training accuracy: 0.839, Validation accuracy: 0.753\n",
            "Epoch 41, Training loss: 0.358, Training accuracy: 0.841, Validation accuracy: 0.787\n",
            "Epoch 42, Training loss: 0.361, Training accuracy: 0.833, Validation accuracy: 0.758\n",
            "Epoch 43, Training loss: 0.341, Training accuracy: 0.851, Validation accuracy: 0.773\n",
            "Epoch 44, Training loss: 0.361, Training accuracy: 0.843, Validation accuracy: 0.733\n",
            "Epoch 45, Training loss: 0.356, Training accuracy: 0.841, Validation accuracy: 0.776\n",
            "Epoch 46, Training loss: 0.345, Training accuracy: 0.847, Validation accuracy: 0.760\n",
            "Epoch 47, Training loss: 0.339, Training accuracy: 0.853, Validation accuracy: 0.753\n",
            "Epoch 48, Training loss: 0.327, Training accuracy: 0.856, Validation accuracy: 0.740\n",
            "Epoch 49, Training loss: 0.349, Training accuracy: 0.846, Validation accuracy: 0.758\n",
            "Epoch 50, Training loss: 0.322, Training accuracy: 0.863, Validation accuracy: 0.764\n",
            "Epoch 1, Training loss: 0.627, Training accuracy: 0.658, Validation accuracy: 0.700\n",
            "Epoch 2, Training loss: 0.576, Training accuracy: 0.689, Validation accuracy: 0.704\n",
            "Epoch 3, Training loss: 0.562, Training accuracy: 0.713, Validation accuracy: 0.673\n",
            "Epoch 4, Training loss: 0.538, Training accuracy: 0.725, Validation accuracy: 0.713\n",
            "Epoch 5, Training loss: 0.533, Training accuracy: 0.727, Validation accuracy: 0.749\n",
            "Epoch 6, Training loss: 0.510, Training accuracy: 0.743, Validation accuracy: 0.718\n",
            "Epoch 7, Training loss: 0.509, Training accuracy: 0.751, Validation accuracy: 0.704\n",
            "Epoch 8, Training loss: 0.493, Training accuracy: 0.757, Validation accuracy: 0.711\n",
            "Epoch 9, Training loss: 0.488, Training accuracy: 0.752, Validation accuracy: 0.753\n",
            "Epoch 10, Training loss: 0.485, Training accuracy: 0.757, Validation accuracy: 0.764\n",
            "Epoch 11, Training loss: 0.486, Training accuracy: 0.751, Validation accuracy: 0.720\n",
            "Epoch 12, Training loss: 0.479, Training accuracy: 0.761, Validation accuracy: 0.749\n",
            "Epoch 13, Training loss: 0.474, Training accuracy: 0.773, Validation accuracy: 0.736\n",
            "Epoch 14, Training loss: 0.468, Training accuracy: 0.779, Validation accuracy: 0.680\n",
            "Epoch 15, Training loss: 0.472, Training accuracy: 0.767, Validation accuracy: 0.738\n",
            "Epoch 16, Training loss: 0.473, Training accuracy: 0.760, Validation accuracy: 0.758\n",
            "Epoch 17, Training loss: 0.457, Training accuracy: 0.774, Validation accuracy: 0.740\n",
            "Epoch 18, Training loss: 0.463, Training accuracy: 0.779, Validation accuracy: 0.724\n",
            "Epoch 19, Training loss: 0.452, Training accuracy: 0.784, Validation accuracy: 0.729\n",
            "Epoch 20, Training loss: 0.456, Training accuracy: 0.776, Validation accuracy: 0.776\n",
            "Epoch 21, Training loss: 0.460, Training accuracy: 0.775, Validation accuracy: 0.767\n",
            "Epoch 22, Training loss: 0.445, Training accuracy: 0.791, Validation accuracy: 0.767\n",
            "Epoch 23, Training loss: 0.452, Training accuracy: 0.781, Validation accuracy: 0.713\n",
            "Epoch 24, Training loss: 0.448, Training accuracy: 0.784, Validation accuracy: 0.758\n",
            "Epoch 25, Training loss: 0.445, Training accuracy: 0.784, Validation accuracy: 0.760\n",
            "Epoch 26, Training loss: 0.434, Training accuracy: 0.792, Validation accuracy: 0.776\n",
            "Epoch 27, Training loss: 0.442, Training accuracy: 0.793, Validation accuracy: 0.724\n",
            "Epoch 28, Training loss: 0.433, Training accuracy: 0.796, Validation accuracy: 0.718\n",
            "Epoch 29, Training loss: 0.428, Training accuracy: 0.797, Validation accuracy: 0.731\n",
            "Epoch 30, Training loss: 0.430, Training accuracy: 0.786, Validation accuracy: 0.753\n",
            "Epoch 31, Training loss: 0.433, Training accuracy: 0.790, Validation accuracy: 0.756\n",
            "Epoch 32, Training loss: 0.426, Training accuracy: 0.799, Validation accuracy: 0.778\n",
            "Epoch 33, Training loss: 0.426, Training accuracy: 0.794, Validation accuracy: 0.762\n",
            "Epoch 34, Training loss: 0.415, Training accuracy: 0.808, Validation accuracy: 0.764\n",
            "Epoch 35, Training loss: 0.420, Training accuracy: 0.797, Validation accuracy: 0.749\n",
            "Epoch 36, Training loss: 0.417, Training accuracy: 0.804, Validation accuracy: 0.764\n",
            "Epoch 37, Training loss: 0.408, Training accuracy: 0.807, Validation accuracy: 0.776\n",
            "Epoch 38, Training loss: 0.418, Training accuracy: 0.806, Validation accuracy: 0.764\n",
            "Epoch 39, Training loss: 0.413, Training accuracy: 0.807, Validation accuracy: 0.767\n",
            "Epoch 40, Training loss: 0.404, Training accuracy: 0.817, Validation accuracy: 0.762\n",
            "Epoch 41, Training loss: 0.394, Training accuracy: 0.821, Validation accuracy: 0.758\n",
            "Epoch 42, Training loss: 0.393, Training accuracy: 0.816, Validation accuracy: 0.764\n",
            "Epoch 43, Training loss: 0.400, Training accuracy: 0.809, Validation accuracy: 0.767\n",
            "Epoch 44, Training loss: 0.390, Training accuracy: 0.820, Validation accuracy: 0.749\n",
            "Epoch 45, Training loss: 0.403, Training accuracy: 0.812, Validation accuracy: 0.749\n",
            "Epoch 46, Training loss: 0.388, Training accuracy: 0.814, Validation accuracy: 0.753\n",
            "Epoch 47, Training loss: 0.392, Training accuracy: 0.813, Validation accuracy: 0.751\n",
            "Epoch 48, Training loss: 0.392, Training accuracy: 0.823, Validation accuracy: 0.778\n",
            "Epoch 49, Training loss: 0.371, Training accuracy: 0.836, Validation accuracy: 0.767\n",
            "Epoch 50, Training loss: 0.382, Training accuracy: 0.827, Validation accuracy: 0.769\n",
            "Epoch 1, Training loss: 0.639, Training accuracy: 0.641, Validation accuracy: 0.518\n",
            "Epoch 2, Training loss: 0.587, Training accuracy: 0.691, Validation accuracy: 0.527\n",
            "Epoch 3, Training loss: 0.574, Training accuracy: 0.696, Validation accuracy: 0.591\n",
            "Epoch 4, Training loss: 0.555, Training accuracy: 0.727, Validation accuracy: 0.564\n",
            "Epoch 5, Training loss: 0.538, Training accuracy: 0.731, Validation accuracy: 0.731\n",
            "Epoch 6, Training loss: 0.517, Training accuracy: 0.748, Validation accuracy: 0.698\n",
            "Epoch 7, Training loss: 0.522, Training accuracy: 0.735, Validation accuracy: 0.727\n",
            "Epoch 8, Training loss: 0.506, Training accuracy: 0.746, Validation accuracy: 0.631\n",
            "Epoch 9, Training loss: 0.566, Training accuracy: 0.714, Validation accuracy: 0.627\n",
            "Epoch 10, Training loss: 0.548, Training accuracy: 0.728, Validation accuracy: 0.489\n",
            "Epoch 11, Training loss: 0.524, Training accuracy: 0.744, Validation accuracy: 0.722\n",
            "Epoch 12, Training loss: 0.497, Training accuracy: 0.750, Validation accuracy: 0.740\n",
            "Epoch 13, Training loss: 0.499, Training accuracy: 0.756, Validation accuracy: 0.716\n",
            "Epoch 14, Training loss: 0.498, Training accuracy: 0.757, Validation accuracy: 0.731\n",
            "Epoch 15, Training loss: 0.493, Training accuracy: 0.758, Validation accuracy: 0.669\n",
            "Epoch 16, Training loss: 0.493, Training accuracy: 0.762, Validation accuracy: 0.711\n",
            "Epoch 17, Training loss: 0.487, Training accuracy: 0.758, Validation accuracy: 0.733\n",
            "Epoch 18, Training loss: 0.490, Training accuracy: 0.768, Validation accuracy: 0.631\n",
            "Epoch 19, Training loss: 0.493, Training accuracy: 0.757, Validation accuracy: 0.718\n",
            "Epoch 20, Training loss: 0.484, Training accuracy: 0.758, Validation accuracy: 0.764\n",
            "Epoch 21, Training loss: 0.484, Training accuracy: 0.761, Validation accuracy: 0.702\n",
            "Epoch 22, Training loss: 0.472, Training accuracy: 0.775, Validation accuracy: 0.722\n",
            "Epoch 23, Training loss: 0.475, Training accuracy: 0.766, Validation accuracy: 0.722\n",
            "Epoch 24, Training loss: 0.483, Training accuracy: 0.759, Validation accuracy: 0.687\n",
            "Epoch 25, Training loss: 0.477, Training accuracy: 0.772, Validation accuracy: 0.751\n",
            "Epoch 26, Training loss: 0.470, Training accuracy: 0.769, Validation accuracy: 0.658\n",
            "Epoch 27, Training loss: 0.482, Training accuracy: 0.764, Validation accuracy: 0.720\n",
            "Epoch 28, Training loss: 0.469, Training accuracy: 0.771, Validation accuracy: 0.756\n",
            "Epoch 29, Training loss: 0.463, Training accuracy: 0.774, Validation accuracy: 0.684\n",
            "Epoch 30, Training loss: 0.473, Training accuracy: 0.776, Validation accuracy: 0.724\n",
            "Epoch 31, Training loss: 0.463, Training accuracy: 0.775, Validation accuracy: 0.662\n",
            "Epoch 32, Training loss: 0.466, Training accuracy: 0.773, Validation accuracy: 0.742\n",
            "Epoch 33, Training loss: 0.458, Training accuracy: 0.777, Validation accuracy: 0.733\n",
            "Epoch 34, Training loss: 0.463, Training accuracy: 0.769, Validation accuracy: 0.724\n",
            "Epoch 35, Training loss: 0.485, Training accuracy: 0.769, Validation accuracy: 0.749\n",
            "Epoch 36, Training loss: 0.469, Training accuracy: 0.770, Validation accuracy: 0.733\n",
            "Epoch 37, Training loss: 0.469, Training accuracy: 0.772, Validation accuracy: 0.753\n",
            "Epoch 38, Training loss: 0.460, Training accuracy: 0.775, Validation accuracy: 0.733\n",
            "Epoch 39, Training loss: 0.465, Training accuracy: 0.784, Validation accuracy: 0.736\n",
            "Epoch 40, Training loss: 0.460, Training accuracy: 0.770, Validation accuracy: 0.733\n",
            "Epoch 41, Training loss: 0.456, Training accuracy: 0.779, Validation accuracy: 0.767\n",
            "Epoch 42, Training loss: 0.454, Training accuracy: 0.779, Validation accuracy: 0.656\n",
            "Epoch 43, Training loss: 0.459, Training accuracy: 0.776, Validation accuracy: 0.736\n",
            "Epoch 44, Training loss: 0.460, Training accuracy: 0.778, Validation accuracy: 0.749\n",
            "Epoch 45, Training loss: 0.464, Training accuracy: 0.773, Validation accuracy: 0.740\n",
            "Epoch 46, Training loss: 0.451, Training accuracy: 0.783, Validation accuracy: 0.700\n",
            "Epoch 47, Training loss: 0.450, Training accuracy: 0.779, Validation accuracy: 0.751\n",
            "Epoch 48, Training loss: 0.449, Training accuracy: 0.777, Validation accuracy: 0.736\n",
            "Epoch 49, Training loss: 0.451, Training accuracy: 0.783, Validation accuracy: 0.740\n",
            "Epoch 50, Training loss: 0.452, Training accuracy: 0.788, Validation accuracy: 0.716\n"
          ]
        }
      ],
      "source": [
        "\n",
        "model = torchvision.models.shufflenet_v2_x1_0(pretrained=False, num_classes=2)\n",
        "\n",
        "device = torch.device(\"cuda\" if torch.cuda.is_available() else \"cpu\")\n",
        "\n",
        "model.to(device)\n",
        "\n",
        "criterion = torch.nn.CrossEntropyLoss()\n",
        "\n",
        "import matplotlib.pyplot as plt\n",
        "\n",
        "train_acc_shuffleNet = []\n",
        "val_acc_shuffleNet = []\n",
        "LR_shuffleNet = [0.001, 0.01, 0.1]\n",
        "\n",
        "for lr in LR_shuffleNet:\n",
        "\n",
        "    optimizer_shuffleNet = optim.Adam(model.parameters(), lr=lr)\n",
        "\n",
        "    train_acc_lr = []\n",
        "    val_acc_lr = []\n",
        "\n",
        "    for epoch in range(50):\n",
        "        train_loss = 0.0\n",
        "        correct_train = 0\n",
        "        total_train = 0\n",
        "\n",
        "\n",
        "        model.train()\n",
        "\n",
        "        for i, (inputs, labels) in enumerate(train_loader):\n",
        "            inputs, labels = inputs.to(device), labels.to(device)\n",
        "\n",
        "            optimizer_shuffleNet.zero_grad()\n",
        "\n",
        "            outputs = model(inputs)\n",
        "            loss = criterion(outputs, labels)\n",
        "            loss.backward()\n",
        "\n",
        "            optimizer_shuffleNet.step()\n",
        "\n",
        "            train_loss += loss.item()\n",
        "            _, predicted = torch.max(outputs.data, 1)\n",
        "            total_train += labels.size(0)\n",
        "            correct_train += (predicted == labels).sum().item()\n",
        "\n",
        "\n",
        "        train_acc_lr.append(correct_train / total_train)\n",
        "\n",
        "\n",
        "        model.eval()\n",
        "\n",
        "        val_loss = 0.0\n",
        "        correct_val = 0\n",
        "        total_val = 0\n",
        "\n",
        "        with torch.no_grad():\n",
        "            for inputs, labels in val_loader:\n",
        "                inputs, labels = inputs.to(device), labels.to(device)\n",
        "\n",
        "                outputs = model(inputs)\n",
        "                loss = criterion(outputs, labels)\n",
        "\n",
        "                val_loss += loss.item()\n",
        "                _, predicted = torch.max(outputs.data, 1)\n",
        "                total_val += labels.size(0)\n",
        "                correct_val += (predicted == labels).sum().item()\n",
        "\n",
        "\n",
        "        val_acc_lr.append(correct_val / total_val)\n",
        "\n",
        "        print('Epoch %d, Training loss: %.3f, Training accuracy: %.3f, Validation accuracy: %.3f' %\n",
        "              (epoch + 1, train_loss / len(train_loader), train_acc_lr[-1], val_acc_lr[-1]))\n",
        "\n",
        "\n",
        "    train_acc_shuffleNet.append(train_acc_lr[-1])\n",
        "    val_acc_shuffleNet.append(val_acc_lr[-1])"
      ]
    },
    {
      "cell_type": "code",
      "execution_count": null,
      "id": "cba77a29",
      "metadata": {
        "id": "cba77a29",
        "outputId": "395ccd7e-70c0-4225-ecf4-3f3ac7c83f32",
        "colab": {
          "base_uri": "https://localhost:8080/",
          "height": 472
        }
      },
      "outputs": [
        {
          "output_type": "display_data",
          "data": {
            "text/plain": [
              "<Figure size 640x480 with 1 Axes>"
            ],
            "image/png": "[encoded data removed]"
          },
          "metadata": {}
        }
      ],
      "source": [
        "\n",
        "plt.plot(LR_shuffleNet, train_acc_shuffleNet, label='Training accuracy')\n",
        "plt.plot(LR_shuffleNet, val_acc_shuffleNet, label='Validation accuracy')\n",
        "plt.xlabel('Learning rate')\n",
        "plt.ylabel('Accuracy')\n",
        "plt.ylim(0, 1)\n",
        "plt.title('ShuffleNet Learning Rate Tuning')\n",
        "plt.legend()\n",
        "plt.show()\n"
      ]
    },
    {
      "cell_type": "code",
      "execution_count": null,
      "id": "27fd417f",
      "metadata": {
        "id": "27fd417f",
        "outputId": "a4129b6c-97ea-49fb-d107-ee49d38d0085",
        "colab": {
          "base_uri": "https://localhost:8080/"
        }
      },
      "outputs": [
        {
          "output_type": "execute_result",
          "data": {
            "text/plain": [
              "[0.8633333333333333, 0.8272222222222222, 0.7877777777777778]"
            ]
          },
          "metadata": {},
          "execution_count": 14
        }
      ],
      "source": [
        "train_acc_shuffleNet"
      ]
    },
    {
      "cell_type": "code",
      "execution_count": null,
      "id": "917ce398",
      "metadata": {
        "id": "917ce398",
        "outputId": "21566f7a-c3ca-42d8-eb16-3e09d0a30b3a",
        "colab": {
          "base_uri": "https://localhost:8080/"
        }
      },
      "outputs": [
        {
          "output_type": "execute_result",
          "data": {
            "text/plain": [
              "[0.7644444444444445, 0.7688888888888888, 0.7155555555555555]"
            ]
          },
          "metadata": {},
          "execution_count": 15
        }
      ],
      "source": [
        "val_acc_shuffleNet"
      ]
    },
    {
      "cell_type": "code",
      "execution_count": null,
      "id": "e9439178",
      "metadata": {
        "id": "e9439178"
      },
      "outputs": [],
      "source": []
    }
  ],
  "metadata": {
    "kernelspec": {
      "display_name": "Python 3",
      "name": "python3"
    },
    "language_info": {
      "codemirror_mode": {
        "name": "ipython",
        "version": 3
      },
      "file_extension": ".py",
      "mimetype": "text/x-python",
      "name": "python",
      "nbconvert_exporter": "python",
      "pygments_lexer": "ipython3",
      "version": "3.9.13"
    },
    "colab": {
      "provenance": [],
      "gpuType": "T4",
      "machine_shape": "hm"
    },
    "accelerator": "GPU"
  },
  "nbformat": 4,
  "nbformat_minor": 5
}